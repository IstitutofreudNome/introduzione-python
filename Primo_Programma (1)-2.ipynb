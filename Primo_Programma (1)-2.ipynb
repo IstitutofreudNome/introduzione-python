{
 "cells": [
  {
   "cell_type": "markdown",
   "id": "b0ad78c6",
   "metadata": {},
   "source": [
    "# IL PRIMO PROGRAMMA "
   ]
  },
  {
   "cell_type": "markdown",
   "id": "3b4eccb0",
   "metadata": {},
   "source": [
    "## SALUTO AL MONDO"
   ]
  },
  {
   "cell_type": "code",
   "execution_count": 1,
   "id": "0cd1c777",
   "metadata": {},
   "outputs": [
    {
     "name": "stdout",
     "output_type": "stream",
     "text": [
      "Ciao, mondo!\n"
     ]
    }
   ],
   "source": [
    "print (\"Ciao, mondo!\")"
   ]
  },
  {
   "cell_type": "markdown",
   "id": "389e84e9",
   "metadata": {},
   "source": [
    "## SALUTO PERSONALIZZATO"
   ]
  },
  {
   "cell_type": "code",
   "execution_count": 4,
   "id": "be323663",
   "metadata": {},
   "outputs": [
    {
     "name": "stdout",
     "output_type": "stream",
     "text": [
      "Inserisci il tuo nome: Matias\n",
      "Ciao, Matias !\n"
     ]
    }
   ],
   "source": [
    "nome = input (\"Inserisci il tuo nome: \")\n",
    "print (\"Ciao,\", nome, \"!\")"
   ]
  },
  {
   "cell_type": "markdown",
   "id": "7b0c43fc",
   "metadata": {},
   "source": [
    "## STAMPA DEL NOME"
   ]
  },
  {
   "cell_type": "code",
   "execution_count": 20,
   "id": "a8784ae6",
   "metadata": {},
   "outputs": [
    {
     "name": "stdout",
     "output_type": "stream",
     "text": [
      "Mattia\n"
     ]
    }
   ],
   "source": [
    "nome=\"Mattia\"\n",
    "print(nome)"
   ]
  },
  {
   "cell_type": "markdown",
   "id": "74fa6c60",
   "metadata": {},
   "source": [
    "## INSERIMENTO NOME DELLA VIA"
   ]
  },
  {
   "cell_type": "code",
   "execution_count": 1,
   "id": "309b6973",
   "metadata": {},
   "outputs": [
    {
     "name": "stdout",
     "output_type": "stream",
     "text": [
      "Inserisci nome della via Roma\n",
      "hai inserito Roma\n"
     ]
    }
   ],
   "source": [
    "via=input(\"Inserisci nome della via \")\n",
    "print(\"hai inserito\", via)"
   ]
  },
  {
   "cell_type": "markdown",
   "id": "ec493b07",
   "metadata": {},
   "source": [
    "## ITERAZIONE DI SALUTO CON IL TUO NOME"
   ]
  },
  {
   "cell_type": "code",
   "execution_count": 2,
   "id": "c93dbded",
   "metadata": {},
   "outputs": [
    {
     "name": "stdout",
     "output_type": "stream",
     "text": [
      "inserisci il tuo nome:Matias\n",
      "Ciao Matias !\n",
      "Ciao Matias !\n",
      "Ciao Matias !\n",
      "Ciao Matias !\n",
      "Ciao Matias !\n",
      "Ciao Matias !\n",
      "Ciao Matias !\n",
      "Ciao Matias !\n",
      "Ciao Matias !\n",
      "Ciao Matias !\n"
     ]
    }
   ],
   "source": [
    "nome = input(\"inserisci il tuo nome:\")\n",
    "for i in range(10):\n",
    "    print(\"Ciao\",nome,\"!\") #Python ripete solo la parte di codice identata (ovvero quello che è spostato a destra)\n",
    "    "
   ]
  },
  {
   "cell_type": "markdown",
   "id": "ca58f89f",
   "metadata": {},
   "source": [
    "# OPERAZIONE MATEMATICA"
   ]
  },
  {
   "cell_type": "markdown",
   "id": "ea5636d5",
   "metadata": {},
   "source": [
    "## SOMMA"
   ]
  },
  {
   "cell_type": "code",
   "execution_count": 3,
   "id": "ab169390",
   "metadata": {},
   "outputs": [
    {
     "name": "stdout",
     "output_type": "stream",
     "text": [
      "Inserisci il primo numero: 5\n",
      "Inserisci il secondo numero: 4\n",
      "La somma è: 9\n"
     ]
    }
   ],
   "source": [
    "numero1 = int(input(\"Inserisci il primo numero: \"))#Int vuol dire numero intero\n",
    "numero2 = int(input(\"Inserisci il secondo numero: \"))\n",
    "somma = numero1 + numero2\n",
    "print(\"La somma è:\", somma)"
   ]
  },
  {
   "cell_type": "markdown",
   "id": "9b73329c",
   "metadata": {},
   "source": [
    "## SOTTRAZIONE"
   ]
  },
  {
   "cell_type": "code",
   "execution_count": 4,
   "id": "88b7fbc6",
   "metadata": {},
   "outputs": [
    {
     "name": "stdout",
     "output_type": "stream",
     "text": [
      "La sostrazione è: 1\n"
     ]
    }
   ],
   "source": [
    "sottrazione = numero1 - numero2\n",
    "print(\"La sostrazione è:\", int(sottrazione))"
   ]
  },
  {
   "cell_type": "markdown",
   "id": "fd3cf6df",
   "metadata": {},
   "source": [
    "## MOLTIPLICAZIONE"
   ]
  },
  {
   "cell_type": "code",
   "execution_count": 5,
   "id": "fdf1dd59",
   "metadata": {},
   "outputs": [
    {
     "name": "stdout",
     "output_type": "stream",
     "text": [
      "Inserisci il primo numero: 34\n",
      "Inserisci il secondo numero45\n",
      "La moltiplicazione è: 1530\n"
     ]
    }
   ],
   "source": [
    "# Chiede all'utente di inserire il primo numero\n",
    "numero1 = int(input(\"Inserisci il primo numero: \"))\n",
    "\n",
    "# Chiede all'utente di inserire il secondo numero\n",
    "numero2 = int(input(\"Inserisci il secondo numero: \"))\n",
    "\n",
    "# Esegue la moltiplicazione dei due numeri\n",
    "moltiplicazione = numero1 * numero2\n",
    "\n",
    "# Stampa il risultato della moltiplicazione\n",
    "print(\"La moltiplicazione di\", numero1, \"e\", numero2, \"è:\", moltiplicazione)"
   ]
  },
  {
   "cell_type": "markdown",
   "id": "c6a0a5a3",
   "metadata": {},
   "source": [
    "## DIVISIONE"
   ]
  },
  {
   "cell_type": "code",
   "execution_count": 6,
   "id": "ca2f3859",
   "metadata": {},
   "outputs": [
    {
     "name": "stdout",
     "output_type": "stream",
     "text": [
      "La divisione è: 0.7555555555555555\n"
     ]
    }
   ],
   "source": [
    "divisione= numero1 / numero2\n",
    "print(\"La divisione è:\",divisione)"
   ]
  },
  {
   "cell_type": "markdown",
   "id": "1c3ff52c",
   "metadata": {},
   "source": [
    "## LOOP E RIPETIZIONE"
   ]
  },
  {
   "cell_type": "code",
   "execution_count": 11,
   "id": "4a02c1d1",
   "metadata": {
    "scrolled": true
   },
   "outputs": [
    {
     "name": "stdout",
     "output_type": "stream",
     "text": [
      "1\n",
      "2\n",
      "3\n",
      "4\n",
      "5\n",
      "6\n",
      "7\n",
      "8\n",
      "9\n",
      "10\n"
     ]
    }
   ],
   "source": [
    "# Utilizza un ciclo for per iterare attraverso i numeri da 1 a 10\n",
    "for numero in range(1, 11):\n",
    "    # Stampa il numero corrente\n",
    "    print(numero)"
   ]
  },
  {
   "cell_type": "markdown",
   "id": "750a8f8c",
   "metadata": {},
   "source": [
    "## CONDIZIONI E DECISIONI"
   ]
  },
  {
   "cell_type": "code",
   "execution_count": 12,
   "id": "47a42f45",
   "metadata": {
    "scrolled": false
   },
   "outputs": [
    {
     "name": "stdout",
     "output_type": "stream",
     "text": [
      "Inserici l'operazione (+,-,*,/): +\n",
      "Inserisci il primo numero: 65\n",
      "Inserici il secondo numero: 65\n",
      "Il risultato è: 130.0\n"
     ]
    }
   ],
   "source": [
    "# Calcolatrice di python\n",
    "operazione = input(\"Inserici l'operazione (+,-,*,/): \")\n",
    "numero1 = float(input(\"Inserisci il primo numero: \")) #float con virgola\n",
    "numero2 = float(input(\"Inserici il secondo numero: \"))\n",
    "# if due uguale serve per cercare qule determintao simbolo in questo caso\n",
    "\n",
    "if operazione == \"+\": #== compara il valore di due oggetti\n",
    "    risultato = numero1 + numero2\n",
    "elif operazione == \"-\":\n",
    "    risultato = numero1 - numero2\n",
    "elif operazione == \"*\":\n",
    "    risultato = numero1 * numero2\n",
    "elif operazione == \"/\":\n",
    "    risultato = numero1 / numero2\n",
    "else:\n",
    "    risultato = \"Operazione non valida\"\n",
    "print(\"Il risultato è:\",risultato)"
   ]
  },
  {
   "cell_type": "markdown",
   "id": "59d3f7d4",
   "metadata": {},
   "source": [
    "## CONFRONTA FINO \"N\""
   ]
  },
  {
   "cell_type": "code",
   "execution_count": 14,
   "id": "001f6125",
   "metadata": {
    "scrolled": true
   },
   "outputs": [
    {
     "name": "stdout",
     "output_type": "stream",
     "text": [
      "Inserisci un numero intero positivo:3\n",
      "1\n",
      "2\n",
      "3\n"
     ]
    }
   ],
   "source": [
    "# Chiede all'utente di inserire un numero intero positivo\n",
    "n = int(input(\"Inserisci un numero intero positivo:\"))\n",
    "\n",
    "# Utilizza un ciclo for per stampare i numeri da 1 a n\n",
    "for numero in range(1, n + 1):\n",
    "    # Stampa il numero corrente\n",
    "    print(numero)"
   ]
  },
  {
   "cell_type": "markdown",
   "id": "ec580c51",
   "metadata": {},
   "source": [
    "## SOMMA NUMERI INTERI"
   ]
  },
  {
   "cell_type": "code",
   "execution_count": 21,
   "id": "87275a0c",
   "metadata": {},
   "outputs": [
    {
     "name": "stdout",
     "output_type": "stream",
     "text": [
      "Inserisci un numero intero positivo:2\n",
      "La somma dei primi 2 numeri interi è: 3\n"
     ]
    }
   ],
   "source": [
    "#Somma\n",
    "n = int(input(\"Inserisci un numero intero positivo:\"))\n",
    "somma = 0\n",
    "for numero in range (1, n+1):\n",
    "    somma += numero #(somma = somma + numero)\n",
    "print(\"La somma dei primi\", n, \"numeri interi è:\", somma)"
   ]
  },
  {
   "cell_type": "markdown",
   "id": "3fa3f975",
   "metadata": {},
   "source": [
    "## CALCOLARE I QUADRATI "
   ]
  },
  {
   "cell_type": "code",
   "execution_count": 23,
   "id": "0262b3bf",
   "metadata": {},
   "outputs": [
    {
     "name": "stdout",
     "output_type": "stream",
     "text": [
      "Inserisci un numero intero positivi: 3\n",
      "Quadrati dei primi 3 numeri:\n",
      "Il quadrato di 3 è 9\n"
     ]
    }
   ],
   "source": [
    "#Calcolare il quadrato dei primi numeri\n",
    "n = int(input(\"Inserisci un numero intero positivi: \"))\n",
    "print(\"Quadrati dei primi\", n,\"numeri:\")\n",
    "\n",
    "for numero in range(1, n + 1):\n",
    "    quadrato = numero ** 2\n",
    "print(\"Il quadrato di\", numero,\"è\", quadrato)"
   ]
  },
  {
   "cell_type": "markdown",
   "id": "821e3ddd",
   "metadata": {},
   "source": [
    "## VERIFICA LA PARITÀ"
   ]
  },
  {
   "cell_type": "code",
   "execution_count": 24,
   "id": "0bc6f2f3",
   "metadata": {},
   "outputs": [
    {
     "name": "stdout",
     "output_type": "stream",
     "text": [
      "Inserici un numero:4\n",
      "4 è un numero pari.\n"
     ]
    }
   ],
   "source": [
    "numero = int(input(\"Inserisci un numero: \")) #Chiede all'utente di inserire un numero e lo memorizza in 'numero'\n",
    "\n",
    "if numero % 2 == 0: # Controlla se 'numero' è divisibile per 2 senza resto\n",
    "    print(numero, \"è un numero pari.\") # Se il resto della divisione per 2 è 0, allora 'numero' è pari\n",
    "else:\n",
    "    print(numero, \"è un numero dispari.\") # Altrimenti, 'numero' è dispari"
   ]
  },
  {
   "cell_type": "markdown",
   "id": "602c2ce7",
   "metadata": {},
   "source": [
    "## FATTORIALE"
   ]
  },
  {
   "cell_type": "code",
   "execution_count": 26,
   "id": "c0260b88",
   "metadata": {
    "scrolled": true
   },
   "outputs": [
    {
     "name": "stdout",
     "output_type": "stream",
     "text": [
      "Inserisci numero intero positivo: 3\n",
      "Il fattoriale di 3 e: 6\n"
     ]
    }
   ],
   "source": [
    "# Chiede all'utente di inserire un numero intero positivo\n",
    "n = int(input(\"Inserisci numero intero positivo: \"))\n",
    "\n",
    "# Inizializza il fattoriale a 1, poiché moltiplicare per 1 non cambierà il risultato\n",
    "fattoriale = 1\n",
    "\n",
    "# Calcola il fattoriale utilizzando un ciclo for\n",
    "for numero in range(1, n + 1):\n",
    "    # Moltiplica il fattoriale per il numero corrente\n",
    "    fattoriale *= numero\n",
    "\n",
    "# Stampa il risultato del fattoriale\n",
    "print(\"Il fattoriale di\", n, \"è:\", fattoriale)\n"
   ]
  },
  {
   "cell_type": "markdown",
   "id": "9b67440e",
   "metadata": {},
   "source": [
    "## CALCOLARE LA MEDIA DI UNA LISTA DI NUMERI"
   ]
  },
  {
   "cell_type": "code",
   "execution_count": 5,
   "id": "fa3a570a",
   "metadata": {
    "scrolled": false
   },
   "outputs": [
    {
     "name": "stdout",
     "output_type": "stream",
     "text": [
      "Quanti numeri vuoi inserire? 2\n",
      "Inserisci un numero: 3\n",
      "Inserisci un numero: 4\n",
      "La media dei numeri inseriti è: 3.5 la lista completa è: [3.0, 4.0]\n"
     ]
    }
   ],
   "source": [
    "# Inizializza una lista vuota per contenere i numeri\n",
    "numeri = []\n",
    "\n",
    "# Chiede all'utente quanti numeri vuole inserire\n",
    "n = int(input(\"Quanti numeri vuoi inserire? \"))\n",
    "\n",
    "# Ciclo per ottenere i numeri dall'utente e aggiungerli alla lista\n",
    "for i in range(n):\n",
    "    numero = float(input(\"Inserisci un numero: \"))  # float = floating point punti e virgola movibili\n",
    "    numeri.append(numero)\n",
    "\n",
    "# Calcola la media dei numeri nella lista\n",
    "media = sum(numeri) / len(numeri)  # len = lunghezza, sum = somma\n",
    "\n",
    "# Stampa la media e la lista completa dei numeri\n",
    "print(\"La media dei numeri inseriti è:\", media, \"la lista completa è:\", numeri)\n"
   ]
  },
  {
   "cell_type": "markdown",
   "id": "f5bad1d7",
   "metadata": {},
   "source": [
    "## INDOVINA IL NUMERO"
   ]
  },
  {
   "cell_type": "code",
   "execution_count": 1,
   "id": "e55176bf",
   "metadata": {
    "scrolled": true
   },
   "outputs": [
    {
     "name": "stdout",
     "output_type": "stream",
     "text": [
      "Indovina il numero (1-100): 67\n",
      "Il numero è più grande.\n",
      "Indovina il numero (1-100): 78\n",
      "Il numero è più grande.\n",
      "Indovina il numero (1-100): 89\n",
      "Bravo! Hai indovinato il nuemro 89 in 3 tentativi.\n"
     ]
    }
   ],
   "source": [
    "# Importa il modulo random per generare numeri casuali\n",
    "import random\n",
    "\n",
    "# Genera un numero casuale da indovinare compreso tra 1 e 100\n",
    "numero_da_indovinare = random.randint(1, 100)  # randint = numero random compreso tra i due estremi\n",
    "tentativi = 0\n",
    "\n",
    "# Ciclo while per continuare a chiedere all'utente di indovinare\n",
    "while True:\n",
    "    # Richiede all'utente di fare un tentativo\n",
    "    tentativo = int(input(\"Indovina il numero (1-100): \"))\n",
    "    tentativi += 1\n",
    "    \n",
    "    # Verifica se il tentativo è corretto, troppo grande o troppo piccolo\n",
    "    if tentativo == numero_da_indovinare:\n",
    "        print(\"Bravo! Hai indovinato il numero\", numero_da_indovinare, \"in\", tentativi, \"tentativi.\")\n",
    "        break  # Interrompe il ciclo while se il numero è stato indovinato\n",
    "    elif tentativo < numero_da_indovinare:\n",
    "        print(\"Il numero è più grande.\")\n",
    "    else:\n",
    "        print(\"Il numero è più piccolo.\")"
   ]
  },
  {
   "cell_type": "markdown",
   "id": "dff3c510",
   "metadata": {},
   "source": [
    "## CARTA FORBICE SASSO"
   ]
  },
  {
   "cell_type": "code",
   "execution_count": 6,
   "id": "d24f69ac",
   "metadata": {},
   "outputs": [
    {
     "name": "stdout",
     "output_type": "stream",
     "text": [
      "Benvenuti al Gioco della Morra Cinese!\n",
      "Scegli la tua mossa (carta, forbici, sasso): carta\n",
      "Il computer ha scelto: sasso\n",
      "Hai vinto\n"
     ]
    }
   ],
   "source": [
    "# Importa il modulo random per la scelta casuale del computer\n",
    "import random\n",
    "\n",
    "# Definisce le possibili mosse nel gioco\n",
    "mosse = [\"carta\", \"forbici\", \"sasso\"]\n",
    "\n",
    "# Il computer fa una scelta casuale tra le mosse possibili\n",
    "computer_mossa = random.choice(mosse)\n",
    "\n",
    "# Stampa un messaggio di benvenuto\n",
    "print(\"Benvenuti al Gioco della Morra Cinese!\")\n",
    "\n",
    "# Chiede all'utente di scegliere una mossa\n",
    "scelta_giocatore = input(\"Scegli la tua mossa (carta, forbici, sasso): \")\n",
    "\n",
    "# Verifica se la mossa dell'utente è permessa\n",
    "if scelta_giocatore not in mosse:\n",
    "    print(\"Mossa non permessa\")\n",
    "else:\n",
    "    # Stampa la mossa del computer\n",
    "    print(\"Il computer ha scelto:\", computer_mossa)\n",
    "\n",
    "    # Confronta le mosse dell'utente e del computer per determinare il risultato\n",
    "    if scelta_giocatore == computer_mossa:\n",
    "        print(\"Pareggio\")\n",
    "    elif (scelta_giocatore == \"carta\" and computer_mossa == \"sasso\") or \\\n",
    "         (scelta_giocatore == \"forbici\" and computer_mossa == \"carta\") or \\\n",
    "         (scelta_giocatore == \"sasso\" and computer_mossa == \"forbici\"):\n",
    "        print(\"Hai vinto\")\n",
    "    else:\n",
    "        print(\"Hai perso!\")"
   ]
  },
  {
   "cell_type": "markdown",
   "id": "750738a8",
   "metadata": {},
   "source": [
    "## CALCOLO DEL FATTORIALE"
   ]
  },
  {
   "cell_type": "code",
   "execution_count": 5,
   "id": "1c3897b8",
   "metadata": {
    "scrolled": true
   },
   "outputs": [
    {
     "name": "stdout",
     "output_type": "stream",
     "text": [
      "Inserisci un numero intero: 4\n",
      "Il fattoriale di 4 è 24\n"
     ]
    }
   ],
   "source": [
    "# Chiede all'utente di inserire un numero intero\n",
    "n = int(input(\"Inserisci un numero intero: \"))\n",
    "\n",
    "# Inizializza la variabile per il calcolo del fattoriale\n",
    "fattoriale = 1\n",
    "\n",
    "# Verifica se il numero è negativo\n",
    "if n < 0:\n",
    "    print(\"Il numero è negativo.\")\n",
    "# Se il numero è zero, il fattoriale è per convenzione 1\n",
    "elif n == 0:\n",
    "    print(\"Il fattoriale di zero è 1.\")\n",
    "else:\n",
    "    # Calcola il fattoriale usando un ciclo for\n",
    "    for numero in range(1, n + 1):\n",
    "        fattoriale *= numero\n",
    "\n",
    "# Stampa il risultato del fattoriale\n",
    "print(f\"Il fattoriale di {n} è {fattoriale}\")"
   ]
  },
  {
   "cell_type": "markdown",
   "id": "11ad1c8b",
   "metadata": {},
   "source": [
    "## CALCOLO DEL FATTORIALE CON GESTIONE DEI NUMERI NEGATIVI"
   ]
  },
  {
   "cell_type": "code",
   "execution_count": 6,
   "id": "00f22142",
   "metadata": {},
   "outputs": [
    {
     "name": "stdout",
     "output_type": "stream",
     "text": [
      "Inserisci un numero intero: -3\n",
      "Il numero è negativo.\n",
      "Il fattoriale di -3 è 1\n"
     ]
    }
   ],
   "source": [
    "# Chiede all'utente di inserire un numero intero\n",
    "n = int(input(\"Inserisci un numero intero: \"))\n",
    "\n",
    "# Inizializza la variabile per il calcolo del fattoriale\n",
    "fattoriale = 1\n",
    "\n",
    "# Verifica se il numero è negativo\n",
    "if n < 0:\n",
    "    print(\"Il numero è negativo.\")\n",
    "# Se il numero è zero, il fattoriale è per convenzione 1\n",
    "elif n == 0:\n",
    "    print(\"Il fattoriale di zero è 1.\")\n",
    "else:\n",
    "    # Calcola il fattoriale usando un ciclo for\n",
    "    for numero in range(1, n + 1):\n",
    "        fattoriale *= numero\n",
    "\n",
    "# Stampa il risultato del fattoriale\n",
    "print(f\"Il fattoriale di {n} è {fattoriale}\")"
   ]
  },
  {
   "cell_type": "markdown",
   "id": "57cf71e5",
   "metadata": {},
   "source": [
    "## CALCOLO DELLA SOMMA DEI NUMERI PARI FINO A \"N\""
   ]
  },
  {
   "cell_type": "code",
   "execution_count": 7,
   "id": "8ab1701d",
   "metadata": {},
   "outputs": [
    {
     "name": "stdout",
     "output_type": "stream",
     "text": [
      "Inserisci un numero intero positivo N:7\n",
      "La somma dei primi 7 numeri pari è 56\n"
     ]
    }
   ],
   "source": [
    "# Chiedere all'utente di inserire un numero intero positivo N\n",
    "N = int(input(\"Inserisci un numero intero positivo N:\"))\n",
    "\n",
    "#Inizializzare la somma a zero\n",
    "somma = 0\n",
    "\n",
    "#Calcolare la somma dei primi N numeri pari\n",
    "for numero in range(2, 2 * N +1, 2):\n",
    "    somma += numero\n",
    "    \n",
    "print (f\"La somma dei primi {N} numeri pari è {somma}\")\n"
   ]
  },
  {
   "cell_type": "markdown",
   "id": "8770fffe",
   "metadata": {},
   "source": [
    "## GENERAZIONE DI UNA LISTA DEI NUMERI PARI FINO A \"N\""
   ]
  },
  {
   "cell_type": "code",
   "execution_count": 8,
   "id": "3b280448",
   "metadata": {},
   "outputs": [
    {
     "name": "stdout",
     "output_type": "stream",
     "text": [
      "Inserisci un numero intero positivo N: 9\n",
      "[2, 4, 6, 8, 10, 12, 14, 16, 18]\n"
     ]
    }
   ],
   "source": [
    "#Chiedere all'utente di inserire un numero intero positivo N\n",
    "N = int(input(\"Inserisci un numero intero positivo N: \"))\n",
    "lista=[]\n",
    "\n",
    "#Calcolare la somma dei primi N numeri pari\n",
    "for numero in range(2, 2 * N +1, 2):\n",
    "    lista.append(numero)\n",
    "\n",
    "print(lista)"
   ]
  },
  {
   "cell_type": "markdown",
   "id": "d5cd207b",
   "metadata": {},
   "source": [
    "## CONTEGGIO DELLE VOCI IN UNA FRASE O PAROLA"
   ]
  },
  {
   "cell_type": "code",
   "execution_count": 9,
   "id": "7110cec8",
   "metadata": {
    "scrolled": true
   },
   "outputs": [
    {
     "name": "stdout",
     "output_type": "stream",
     "text": [
      "Inserisci una frase o una parola: Redouane\n",
      "Nella frase inserita ci sono 5 vocali.\n"
     ]
    }
   ],
   "source": [
    "#Chiedi all'utente di inserire una frase o una parola\n",
    "frase = input (\"Inserisci una frase o una parola: \").lower() #Converti tutto in \n",
    "#Lower =Serve per ridurre le stringe di testo minuscole\n",
    "#Inizializza il contatore delle vocali\n",
    "conteggio_vocali = 0\n",
    "\n",
    "#Definisci le vocali da cercare\n",
    "vocali =\"aeiou\"\n",
    "\n",
    "#Scansiona ogni carattere nella frase\n",
    "for carattere in frase:\n",
    "    #Verifica se il carattere è una vocale\n",
    "    if carattere in vocali:\n",
    "        conteggio_vocali += 1\n",
    "\n",
    "#Stampa il conteggio delle vocali\n",
    "print (f\"Nella frase inserita ci sono {conteggio_vocali} vocali.\")"
   ]
  },
  {
   "cell_type": "markdown",
   "id": "34b177a1",
   "metadata": {},
   "source": [
    "## GIOCO DELL'INDOVINA IL NUMERO DEL DADO"
   ]
  },
  {
   "cell_type": "code",
   "execution_count": 19,
   "id": "a6af44a2",
   "metadata": {},
   "outputs": [
    {
     "name": "stdout",
     "output_type": "stream",
     "text": [
      "Indov2ina il numero del dado (da 1 a 6): 6\n",
      "Complimenti! Il numero del dado era 6. Hai indovinato!\n"
     ]
    }
   ],
   "source": [
    "import random\n",
    "# Genera un numera da 1 a 6 (simulando il lancio di un dado)\n",
    "numero_dado =random.randint(1, 6)\n",
    "\n",
    "#Chiedi all'utente di indovinare il numero\n",
    "indovina =int(input(\"Indov2ina il numero del dado (da 1 a 6): \"))\n",
    "\n",
    "#Verifica se l'utente ha indovinato corretamente\n",
    "if indovina <1 or indovina >6:\n",
    "    print(\"numero non ammesso\")\n",
    "elif indovina ==numero_dado:\n",
    "    print(f\"Complimenti! Il numero del dado era {numero_dado}. Hai indovinato!\")\n",
    "else:\n",
    "    print(f\"Mi dispiace, il numero del dado era {numero_dado}. Meglia fortuna alla prossima!\")"
   ]
  },
  {
   "cell_type": "markdown",
   "id": "a6c29d8e",
   "metadata": {},
   "source": [
    "## ITERAZIONE DI SALUTO CON IL TUO NOME"
   ]
  },
  {
   "cell_type": "code",
   "execution_count": 21,
   "id": "ae67f080",
   "metadata": {
    "scrolled": false
   },
   "outputs": [
    {
     "name": "stdout",
     "output_type": "stream",
     "text": [
      "oggi è il giorno:  09  11  23 ore:  18 18 05\n"
     ]
    }
   ],
   "source": [
    "import datetime\n",
    "\n",
    "today = datetime.datetime.today()\n",
    "print (f\"oggi è il giorno: {today: %d  %m  %y} ore: {today: %H %M %S}\")"
   ]
  },
  {
   "cell_type": "markdown",
   "id": "7ea93664",
   "metadata": {},
   "source": [
    "## SIMULAZIONE CRESCITA POPOLAZIONALE"
   ]
  },
  {
   "cell_type": "code",
   "execution_count": 23,
   "id": "5cd9900f",
   "metadata": {
    "scrolled": false
   },
   "outputs": [
    {
     "name": "stdout",
     "output_type": "stream",
     "text": [
      "Inserire la popolazione iniziale: 20000\n",
      "Inserire il numero degli anni da simulare: 2\n",
      "Inserisci il tasso di natalità: 3\n",
      "Inserisci il tasso di mortalità: 2\n",
      "Anno 1: popolazione=40000\n",
      "Anno 2: popolazione=80000\n",
      "Simulazione completata\n"
     ]
    }
   ],
   "source": [
    "#Inizializza la popolazione e gli anni\n",
    "popolazione=int(input(\"Inserire la popolazione iniziale: \"))\n",
    "anni=int(input(\"Inserire il numero degli anni da simulare: \"))\n",
    "#Tasso di natalità e di mortalità (percentuale annua)\n",
    "tasso_natalità=float(input(\"Inserisci il tasso di natalità: \"))\n",
    "tasso_mortalità=float(input(\"Inserisci il tasso di mortalità: \"))\n",
    "\n",
    "#Simulazione della crescita della popolazione\n",
    "for anno in range(anni):\n",
    "    nascite = int(popolazione*tasso_natalità)\n",
    "    morti = int(popolazione*tasso_mortalità)\n",
    "    popolazione += (nascite-morti)\n",
    "    print(f\"Anno {anno + 1}: popolazione={int(popolazione)}\") #se il print non è dentro la dentazione da direttamnete il risultato finale \n",
    "print(\"Simulazione completata\")"
   ]
  },
  {
   "cell_type": "markdown",
   "id": "d5047f02",
   "metadata": {},
   "source": [
    "## CONVERTITORE DI UNITÀ DI MISURA"
   ]
  },
  {
   "cell_type": "code",
   "execution_count": 24,
   "id": "0b2a55da",
   "metadata": {
    "scrolled": true
   },
   "outputs": [
    {
     "name": "stdout",
     "output_type": "stream",
     "text": [
      "Benvenuto nel convertitore di Unità di Misura!\n",
      "Cosa desideri convertire? (metri/piedi/chilogrammi/libbre)METRI\n",
      "Inserisci il valore in metri76\n",
      "76.0 metri corrispondono a 249.34384piedi.\n",
      "Scelta non valida. Scegli tra 'metri', 'piedi, 'chilogrammi'o 'libbre'.\n"
     ]
    }
   ],
   "source": [
    "#Convertitore di unita di Misura\n",
    "print (\"Benvenuto nel convertitore di Unità di Misura!\")\n",
    "scelta = input(\"Cosa desideri convertire? (metri/piedi/chilogrammi/libbre)\").lower()\n",
    "\n",
    "if scelta == \"metri\":\n",
    "    valore = float (input(\"Inserisci il valore in metri\"))\n",
    "    risultato = valore * 3.28084\n",
    "    print(f\"{valore} metri corrispondono a {risultato}piedi.\")\n",
    "elif scelta == \"piedi\":\n",
    "    valore = float (input (\"Inserisci il valore in piedi: \"))\n",
    "    risultati = valore / 3.28084\n",
    "    print(f\"{valore} piedi corrispondono a {risultato} metri.\")\n",
    "if scelta == \"chilogrammi\":\n",
    "    valore = float (input(\"Inserisci il valore in chilogrammi\"))\n",
    "    risultato = valore * 2.20562\n",
    "    print(f\"{valore} metri corrispondono a {risultato} libbre.\")\n",
    "elif scelta == \"libbre\":\n",
    "    valore = float (input (\"Inserisci il valore in libbre: \"))\n",
    "    risultati = valore / 2.20562\n",
    "    print(f\"{valore} libbre corrispondono a {risultato} chilogrammi.\")\n",
    "else:\n",
    "    print(\"Scelta non valida. Scegli tra 'metri', 'piedi, 'chilogrammi'o 'libbre'.\")"
   ]
  },
  {
   "cell_type": "markdown",
   "id": "da151676",
   "metadata": {},
   "source": [
    "## CALCOLO DELL'ESIMO NUMERO DI FIBONACCI"
   ]
  },
  {
   "cell_type": "code",
   "execution_count": 26,
   "id": "81bf9dcb",
   "metadata": {},
   "outputs": [
    {
     "name": "stdout",
     "output_type": "stream",
     "text": [
      "Inserisci un numero n per calcolare l'esimo numero di Fibonacci 6\n",
      "l'n-esimo numero di Fibonacci è:  5\n"
     ]
    }
   ],
   "source": [
    "#Fibonacci\n",
    "n = int (input(\"Inserisci un numero n per calcolare l'esimo numero di Fibonacci \"))\n",
    "# Iniziallizare le variabili per i primi due numeri di Fibonacci\n",
    "a=0\n",
    "b=1\n",
    "c=1\n",
    "# Calcolare l'n-esimo numero di Fibonaxxi\n",
    "if n <= 0:\n",
    "    print(\"Il numero deve essere maggiore di zero.\")\n",
    "elif n ==1:\n",
    "    risultato = a\n",
    "else:\n",
    "    for iterazione in range(n-3):\n",
    "        a = b\n",
    "        b = c\n",
    "        c = a + b\n",
    "    risultato = c\n",
    "# Stampare l'n-enesimo numeri di Finonacci\n",
    "print(\"l'n-esimo numero di Fibonacci è: \", risultato)"
   ]
  },
  {
   "cell_type": "markdown",
   "id": "df96b772",
   "metadata": {},
   "source": [
    "# FUNZIONI COSTUM"
   ]
  },
  {
   "cell_type": "code",
   "execution_count": 7,
   "id": "86b606b5",
   "metadata": {
    "scrolled": true
   },
   "outputs": [],
   "source": [
    "def Fibonacci(n):\n",
    "    # Inizializza la serie di Fibonacci con i primi due termini\n",
    "    fib_series = [0, 1]\n",
    "\n",
    "    # Continua ad aggiungere nuovi termini finché la lunghezza della serie è inferiore a n\n",
    "    while len(fib_series) < n:\n",
    "        # Aggiunge il nuovo termine sommando gli ultimi due termini della serie\n",
    "        fib_series.append(fib_series[-1] + fib_series[-2])\n",
    "\n",
    "    # Restituisce la serie di Fibonacci fino all'n-esimo termine\n",
    "    return fib_series\n"
   ]
  },
  {
   "cell_type": "code",
   "execution_count": 8,
   "id": "3828752a",
   "metadata": {
    "scrolled": true
   },
   "outputs": [
    {
     "data": {
      "text/plain": [
       "[0, 1, 1, 2, 3, 5, 8, 13, 21, 34]"
      ]
     },
     "execution_count": 8,
     "metadata": {},
     "output_type": "execute_result"
    }
   ],
   "source": [
    "Fibonacci (10)"
   ]
  },
  {
   "cell_type": "markdown",
   "id": "fc94d802",
   "metadata": {},
   "source": [
    "## CALCOLO DELLA SERIE DI FIBONACCI"
   ]
  },
  {
   "cell_type": "code",
   "execution_count": 9,
   "id": "3890b5eb",
   "metadata": {
    "scrolled": false
   },
   "outputs": [
    {
     "name": "stdout",
     "output_type": "stream",
     "text": [
      "Inserisci il numero di termini della serie di Fibonacci: 6\n",
      "[0, 1, 1, 2, 3, 5]\n"
     ]
    }
   ],
   "source": [
    "# Chiede all'utente di inserire il numero di termini desiderati per la serie di Fibonacci\n",
    "n = int(input(\"Inserisci il numero di termini della serie di Fibonacci: \"))\n",
    "\n",
    "# Verifica se l'utente ha inserito un numero positivo\n",
    "if n <= 0:\n",
    "    print(\"Inserisci un numero positivo.\")\n",
    "else:\n",
    "    # Chiama la funzione Fibonacci per generare la serie fino all'n-esimo termine\n",
    "    result = Fibonacci(n)\n",
    "\n",
    "    # Stampa la serie di Fibonacci\n",
    "    print(result)"
   ]
  },
  {
   "cell_type": "markdown",
   "id": "605ecb0a",
   "metadata": {},
   "source": [
    "## CALCOLATRICE DI AREE"
   ]
  },
  {
   "cell_type": "code",
   "execution_count": 34,
   "id": "12579f50",
   "metadata": {},
   "outputs": [],
   "source": [
    "import math #libreria math di python\n",
    "\n",
    "def calcola_area_cerchio(raggio):\n",
    "    return math.pi * (raggio ** 2) #math.pi = pi\n",
    "def calcola_area_rettangolo(base, altezza):\n",
    "    return base * altezza\n",
    "def calcola_area_triangolo(base, altezza):\n",
    "    return (base * altezza) / 2"
   ]
  },
  {
   "cell_type": "code",
   "execution_count": 33,
   "id": "daabcc13",
   "metadata": {
    "scrolled": false
   },
   "outputs": [
    {
     "name": "stdout",
     "output_type": "stream",
     "text": [
      "Benvenuto nella Calcolatrice di Aree!\n",
      "Vuoi calcolare l'area di un cerchio (c), rettangolo (r) o triangolo (t)R\n",
      "Inserisci la base del rettangolo: 9\n",
      "Inserisci l'altezza del rettangolo: 12\n",
      "L'area del rettangolo  è 108.00\n"
     ]
    }
   ],
   "source": [
    "# Stampa un messaggio di benvenuto\n",
    "print(\"Benvenuto nella Calcolatrice di Aree!\")\n",
    "\n",
    "# Chiede all'utente di scegliere quale area calcolare\n",
    "scelta = input(\"Vuoi calcolare l'area di un cerchio (c), rettangolo (r) o triangolo (t)\").lower()\n",
    "\n",
    "# Gestisce la scelta dell'utente\n",
    "if scelta == 'c':\n",
    "    # Chiede all'utente di inserire il raggio del cerchio\n",
    "    raggio = float(input(\"Inserisci il raggio del cerchio: \"))\n",
    "    # Chiama la funzione calcola_area_cerchio (che dovrebbe essere definita)\n",
    "    area = calcola_area_cerchio(raggio)\n",
    "    # Stampa il risultato\n",
    "    print(f\"L'area del cerchio è {area:.2f}\")\n",
    "elif scelta == 'r':\n",
    "    # Chiede all'utente di inserire la base e l'altezza del rettangolo\n",
    "    base = float(input(\"Inserisci la base del rettangolo: \"))\n",
    "    altezza = float(input(\"Inserisci l'altezza del rettangolo: \"))\n",
    "    # Chiama la funzione calcola_area_rettangolo (che dovrebbe essere definita)\n",
    "    area = calcola_area_rettangolo(base, altezza)\n",
    "    # Stampa il risultato\n",
    "    print(f\"L'area del rettangolo è {area:.2f}\")\n",
    "elif scelta == 't':\n",
    "    # Chiede all'utente di inserire la base e l'altezza del triangolo\n",
    "    base = float(input(\"Inserisci la base del triangolo: \"))\n",
    "    altezza = float(input(\"Inserisci l'altezza del triangolo: \"))\n",
    "    # Chiama la funzione calcola_area_rettangolo (forse dovrebbe essere calcola_area_triangolo?)\n",
    "    area = calcola_area_rettangolo(base, altezza)\n",
    "    # Stampa il risultato\n",
    "    print(f\"L'area del triangolo è {area:.2f}\")\n",
    "else:\n",
    "    # Se l'utente ha inserito una scelta non valida\n",
    "    print(\"Scelta non valida. Si prega di inserire 'c', 'r' o 't'.\")\n"
   ]
  },
  {
   "cell_type": "markdown",
   "id": "b8673b37",
   "metadata": {},
   "source": [
    "## CALCOLATORE DI INTERESSI COMPOSTI"
   ]
  },
  {
   "cell_type": "code",
   "execution_count": 35,
   "id": "3ce1ee5c",
   "metadata": {},
   "outputs": [],
   "source": [
    "# Questa è una funzione che calcola l'importo finale di un investimento\n",
    "# basato sull'importo iniziale, il tasso di interesse e il numero di periodi di investimento.\n",
    "def calcola_interessi(importo_iniziale, tasso_interesse, periodi_investimento):\n",
    "    # Calcola l'importo finale utilizzando la formula dell'interesse composto.\n",
    "    importo_finale = importo_iniziale * (1 + tasso_interesse / 100) ** periodi_investimento\n",
    "    \n",
    "    # Restituisce l'importo finale calcolato.\n",
    "    return importo_finale"
   ]
  },
  {
   "cell_type": "code",
   "execution_count": 37,
   "id": "a48f4b7b",
   "metadata": {
    "scrolled": true
   },
   "outputs": [
    {
     "name": "stdout",
     "output_type": "stream",
     "text": [
      "Benvenuto nel Calcolatore Interessi\n",
      "Inserisci l'importo iniziale: 12000\n",
      "Inserisci il tasso di interesse annuale (%): 20\n",
      "Inserisci il periodo di investimento (anni): 2\n",
      "L'importo finale dopo 2 anni è di 17280.00 euro.\n"
     ]
    }
   ],
   "source": [
    "#Stampa un messaggio di benvenuto\n",
    "print(\"Benvenuto nel Calcolatore Interessi\")\n",
    "\n",
    "#Definisci una funzione per calcolare l'importo finale con gli interessi\n",
    "def calcola_interessi(importo, tasso, periodo):\n",
    "    # Calcola l'importo finale con gli interessi usando la formula degli interessi composti\n",
    "    importo_finale = importo * (1 + tasso / 100) ** periodo\n",
    "    return importo_finale\n",
    "\n",
    "#Chiedi all'utente di inserire l'importo iniziale, il tasso di interesse e il periodo di investimento\n",
    "importo = float(input(\"Inserisci l'importo iniziale: \"))\n",
    "tasso = float(input(\"Inserisci il tasso di interesse annuale (%): \"))\n",
    "periodo = int(input(\"Inserisci il periodo di investimento (anni): \"))\n",
    "\n",
    "#Chiama la funzione calcola_interessi per calcolare l'importo finale\n",
    "importo_finale = calcola_interessi(importo, tasso, periodo)\n",
    "\n",
    "#Stampa l'importo finale formattato con due decimali\n",
    "print(f\"L'importo finale dopo {periodo} anni è di {importo_finale:.2f} euro.\")"
   ]
  },
  {
   "cell_type": "markdown",
   "id": "840727b9",
   "metadata": {},
   "source": [
    "## CALCOLO DELLA FORZA GRAVITAZIONALE"
   ]
  },
  {
   "cell_type": "code",
   "execution_count": 39,
   "id": "db61f175",
   "metadata": {},
   "outputs": [],
   "source": [
    "def calcola_forza_gravitazionale(massa1, massa2, distanza):\n",
    "    # Definisce la costante gravitazionale\n",
    "    G = 6.67430e-11  # Costante gravitazionale in N(m/kg)^2\n",
    "    \n",
    "    # Calcola la forza gravitazionale utilizzando la legge di gravitazione universale\n",
    "    forza_gravitazionale = (G * massa1 * massa2) / (distanza**2)\n",
    "    \n",
    "    # Restituisce il risultato\n",
    "    return forza_gravitazionale"
   ]
  },
  {
   "cell_type": "code",
   "execution_count": 40,
   "id": "78727854",
   "metadata": {},
   "outputs": [
    {
     "name": "stdout",
     "output_type": "stream",
     "text": [
      "Forza gravitazionale tra la Terra e la Luna: 1.9804922390990566e+20 Newton\n"
     ]
    }
   ],
   "source": [
    "#Esempio di utilizzo\n",
    "massa_terra=5.972e24 #kg\n",
    "massa_luna=7.342e22 #kg\n",
    "distanza_terra_luna=384400000 #metri\n",
    "\n",
    "forza= calcola_forza_gravitazionale(massa_terra, massa_luna, distanza_terra_luna)\n",
    "print(f\"Forza gravitazionale tra la Terra e la Luna: {forza} Newton\")"
   ]
  },
  {
   "cell_type": "markdown",
   "id": "ac03f53f",
   "metadata": {},
   "source": [
    "# ANAGRAMMI"
   ]
  },
  {
   "cell_type": "markdown",
   "id": "c57e75a1",
   "metadata": {},
   "source": [
    "## RISOLUTORE DI ANAGRAMMI"
   ]
  },
  {
   "cell_type": "code",
   "execution_count": 41,
   "id": "22bde1d8",
   "metadata": {},
   "outputs": [],
   "source": [
    "from itertools import permutations\n",
    "\n",
    "k = 0\n",
    "\n",
    "def trova_anagrammi(parola):\n",
    "    anagrammi = [\"\".join(p) for p in permutations(parola)]\n",
    "    return anagrammi "
   ]
  },
  {
   "cell_type": "code",
   "execution_count": 45,
   "id": "42c32607",
   "metadata": {
    "scrolled": true
   },
   "outputs": [
    {
     "name": "stdout",
     "output_type": "stream",
     "text": [
      "Benvenuto nel Risolutore di Anagrammi!\n",
      "Inserisci una parola: Ciao\n",
      "cioa\n",
      "caio\n",
      "caoi\n",
      "coia\n",
      "coai\n",
      "icao\n",
      "icoa\n",
      "iaco\n",
      "iaoc\n",
      "ioca\n",
      "ioac\n",
      "acio\n",
      "acoi\n",
      "aico\n",
      "aioc\n",
      "aoci\n",
      "aoic\n",
      "ocia\n",
      "ocai\n",
      "oica\n",
      "oiac\n",
      "oaci\n",
      "oaic\n",
      "Gli anagrammi di 'ciao' sono: 40386\n"
     ]
    }
   ],
   "source": [
    "# Stampa un messaggio di benvenuto\n",
    "print(\"Benvenuto nel Risolutore di Anagrammi!\")\n",
    "\n",
    "# Chiede all'utente di inserire una parola\n",
    "parola_input = input(\"Inserisci una parola: \").strip().lower()\n",
    "\n",
    "# Verifica se la parola ha almeno 2 caratteri\n",
    "if len(parola_input) < 2:\n",
    "    print(\"Inserisci una parola con almeno 2 caratteri.\")\n",
    "else:\n",
    "    # Chiama la funzione trova_anagrammi (che dovrebbe essere definita)\n",
    "    anagrammi = trova_anagrammi(parola_input)\n",
    "\n",
    "    # Inizializza una variabile per contare gli anagrammi\n",
    "    k = 0\n",
    "\n",
    "    # Stampa gli anagrammi e conta quelli diversi dalla parola di input\n",
    "    for elemento in anagrammi:\n",
    "        if elemento != parola_input:\n",
    "            k += 1\n",
    "            print(elemento)\n",
    "\n",
    "    # Stampa il numero totale di anagrammi\n",
    "    print(f\"Gli anagrammi di '{parola_input}' sono: {k}\")"
   ]
  },
  {
   "cell_type": "markdown",
   "id": "891e5ab2",
   "metadata": {},
   "source": [
    "## CONTEGGIO DELLE LETTERE NELLA FRASE"
   ]
  },
  {
   "cell_type": "code",
   "execution_count": 46,
   "id": "7ad960d6",
   "metadata": {
    "scrolled": false
   },
   "outputs": [
    {
     "name": "stdout",
     "output_type": "stream",
     "text": [
      "Inserisci una frase: Ciao Marrocco\n",
      "a: 2 \n",
      "c: 3 \n",
      "i: 1 \n",
      "m: 1 \n",
      "o: 3 \n",
      "r: 2 \n"
     ]
    }
   ],
   "source": [
    "# Chiedi sll'utente di inserire una frase \n",
    "frase = input(\"Inserisci una frase: \")\n",
    "\n",
    "#Converti la frase in minusciki per evitare problemi di maiuscole/minuscole\n",
    "frase = frase.lower()\n",
    "\n",
    "#Inizzializza una lista di lettere dell'alfabeto\n",
    "alfabeto = 'abcdefghijklmnopqrstuvwxyz'\n",
    "\n",
    "#Inizializza un dizzionario per tenere traccia del conteggio delle lettere\n",
    "conteggio_lettere = {}\n",
    "\n",
    "#Itera attraverso ciascuna lettera dell'alfabeto\n",
    "for lettera in alfabeto:\n",
    "    #Conta quante volte appare la lettera nella frase\n",
    "    conteggio = frase.count(lettera)\n",
    "    \n",
    "    #Aggiungi la lettera e il conteggio al dizionario se la lettera appare\n",
    "    if conteggio > 0:\n",
    "        conteggio_lettere[lettera] = conteggio\n",
    "#Stampa il conteggio delle lettere in un formato leggibiile\n",
    "for lettera, conteggio in conteggio_lettere.items():\n",
    "    print(f\"{lettera}: {conteggio} \")"
   ]
  },
  {
   "cell_type": "markdown",
   "id": "04c25b84",
   "metadata": {},
   "source": [
    "## CONTEGGIO DEI PRODOTTI"
   ]
  },
  {
   "cell_type": "code",
   "execution_count": 47,
   "id": "ac4a85e9",
   "metadata": {},
   "outputs": [
    {
     "data": {
      "text/plain": [
       "dict_items([('a', 2), ('c', 3), ('i', 1), ('m', 1), ('o', 3), ('r', 2)])"
      ]
     },
     "execution_count": 47,
     "metadata": {},
     "output_type": "execute_result"
    }
   ],
   "source": [
    "conteggio_lettere.items()"
   ]
  },
  {
   "cell_type": "code",
   "execution_count": 48,
   "id": "dbea24e6",
   "metadata": {},
   "outputs": [],
   "source": [
    "Prodotti={}\n",
    "Prodotti[\"pan bauletto\"]=2\n",
    "Prodotti[\"coca cola\"]=3"
   ]
  },
  {
   "cell_type": "code",
   "execution_count": 49,
   "id": "84d89d5e",
   "metadata": {},
   "outputs": [
    {
     "data": {
      "text/plain": [
       "{'pan bauletto': 2, 'coca cola': 3}"
      ]
     },
     "execution_count": 49,
     "metadata": {},
     "output_type": "execute_result"
    }
   ],
   "source": [
    "Prodotti"
   ]
  },
  {
   "cell_type": "markdown",
   "id": "661e13e2",
   "metadata": {},
   "source": [
    "## CONVERTITORE DI VALUTE"
   ]
  },
  {
   "cell_type": "code",
   "execution_count": 50,
   "id": "23271412",
   "metadata": {
    "scrolled": true
   },
   "outputs": [
    {
     "name": "stdout",
     "output_type": "stream",
     "text": [
      "Inserisci l'importo da convertire: 1000\n",
      "Inserisci la valuta di partenza: euro\n",
      "Inserisci la valuta di destinazione: dollari\n",
      "1000.0 euro sono equivalenti a 1176.47 dollari\n"
     ]
    }
   ],
   "source": [
    "# Definizione dei tassi di cambio\n",
    "tassi_di_cambio = {\n",
    "    \"dollari\": 1.0,\n",
    "    \"euro\": 0.85,\n",
    "    \"yen\": 110.41,\n",
    "    # Aggiungi altre valute e tassi di cambio se necessario\n",
    "}\n",
    "\n",
    "# Chiedi all'utente di inserire l'importo, la valuta di partenza e la valuta di destinazione\n",
    "try:\n",
    "    importo = float(input(\"Inserisci l'importo da convertire: \"))\n",
    "    valuta_di_partenza = input(\"Inserisci la valuta di partenza: \").lower()\n",
    "    valuta_destinazione = input(\"Inserisci la valuta di destinazione: \").lower()\n",
    "\n",
    "    # Verifica se le valute sono nel dizionario dei tassi di cambio\n",
    "    if valuta_di_partenza in tassi_di_cambio and valuta_destinazione in tassi_di_cambio:\n",
    "        # Calcola il tasso di cambio e l'importo convertito\n",
    "        tasso_di_cambio = tassi_di_cambio[valuta_destinazione] / tassi_di_cambio[valuta_di_partenza]\n",
    "        importo_convertito = importo * tasso_di_cambio\n",
    "\n",
    "        # Stampa il risultato\n",
    "        print(f\"{importo} {valuta_di_partenza} sono equivalenti a {importo_convertito:.2f} {valuta_destinazione}\")\n",
    "    else:\n",
    "        print(\"Valute non supportate. Assicurati di inserire valute valide.\")\n",
    "except ValueError:\n",
    "    print(\"Inserisci un importo valido.\")"
   ]
  },
  {
   "cell_type": "markdown",
   "id": "2a7395b6",
   "metadata": {},
   "source": [
    "## OROLOGIO MONDIALE"
   ]
  },
  {
   "cell_type": "code",
   "execution_count": 1,
   "id": "d337a4f5",
   "metadata": {
    "scrolled": true
   },
   "outputs": [
    {
     "name": "stdout",
     "output_type": "stream",
     "text": [
      "Benvenuto nell'Orologio mondiale!\n",
      "\n",
      "Città disponibili: \n",
      "New York\n",
      "Londra\n",
      "Tokyo\n",
      "Sydney\n",
      "Rio de Janeiro\n",
      "Inserisci il nome della città per visualizzare l'ora (o 'esci' per uscire): Tokyo\n",
      "L'ora corrente a Tokyo è: 02:38:05\n",
      "\n",
      "Città disponibili: \n",
      "New York\n",
      "Londra\n",
      "Tokyo\n",
      "Sydney\n",
      "Rio de Janeiro\n",
      "Inserisci il nome della città per visualizzare l'ora (o 'esci' per uscire): Londra\n",
      "L'ora corrente a Londra è: 17:38:22\n",
      "\n",
      "Città disponibili: \n",
      "New York\n",
      "Londra\n",
      "Tokyo\n",
      "Sydney\n",
      "Rio de Janeiro\n",
      "Inserisci il nome della città per visualizzare l'ora (o 'esci' per uscire): esci\n"
     ]
    }
   ],
   "source": [
    "from datetime import datetime\n",
    "import pytz\n",
    "\n",
    "# Stampa un messaggio di benvenuto\n",
    "print(\"Benvenuto nell'Orologio mondiale!\")\n",
    "\n",
    "# Definisci le città e i relativi fusi orari\n",
    "citta_fusi_orari = {\n",
    "    \"New York\": \"America/New_York\",\n",
    "    \"Londra\": \"Europe/London\",\n",
    "    \"Tokyo\": \"Asia/Tokyo\",\n",
    "    \"Sydney\": \"Australia/Sydney\",\n",
    "    \"Rio de Janeiro\": \"America/Sao_Paulo\",\n",
    "}\n",
    "\n",
    "# Loop principale per consentire all'utente di effettuare scelte multiple\n",
    "while True:\n",
    "    # Stampa le città disponibili\n",
    "    print(\"\\nCittà disponibili: \")\n",
    "    for citta in citta_fusi_orari.keys():\n",
    "        print(citta)\n",
    "\n",
    "    # Chiede all'utente di inserire il nome della città o 'esci' per uscire\n",
    "    scelta_citta = input(\"Inserisci il nome della città per visualizzare l'ora (o 'esci' per uscire): \").strip()\n",
    "\n",
    "    # Verifica se l'utente vuole uscire\n",
    "    if scelta_citta.lower() == 'esci':\n",
    "        break\n",
    "    \n",
    "    # Verifica se la città inserita è valida\n",
    "    if scelta_citta in citta_fusi_orari:\n",
    "        # Ottiene il fuso orario corrispondente alla città\n",
    "        fuso_orario = pytz.timezone(citta_fusi_orari[scelta_citta])\n",
    "        \n",
    "        # Ottiene l'ora corrente nella città scelta\n",
    "        ora_corrente = datetime.now(fuso_orario)\n",
    "        \n",
    "        # Stampa l'ora corrente form\n"
   ]
  },
  {
   "cell_type": "markdown",
   "id": "a7d14dfa",
   "metadata": {},
   "source": [
    "## FUNZIONE PRINCIPALE PAOLO"
   ]
  },
  {
   "cell_type": "code",
   "execution_count": 2,
   "id": "dc0c6da3",
   "metadata": {},
   "outputs": [],
   "source": [
    "#Funzione principale può avere qualsiasi nome\n",
    "def paolo():\n",
    "    print(\"Mi chaimo Paolo\")\n",
    "\n"
   ]
  },
  {
   "cell_type": "code",
   "execution_count": 3,
   "id": "8352cc14",
   "metadata": {
    "scrolled": true
   },
   "outputs": [
    {
     "name": "stdout",
     "output_type": "stream",
     "text": [
      "Mi chaimo Paolo\n"
     ]
    }
   ],
   "source": [
    "if __name__ == \"__main__\": #è una condizione logica che \"si verifica sempre\" \n",
    "                         \n",
    "    paolo()"
   ]
  },
  {
   "cell_type": "code",
   "execution_count": 4,
   "id": "ec9fa522",
   "metadata": {
    "scrolled": true
   },
   "outputs": [
    {
     "name": "stdout",
     "output_type": "stream",
     "text": [
      "la funzione principale del codice è stata seguita, in questa funzione possono essere presenti precedentemente create\n"
     ]
    }
   ],
   "source": [
    "#Funzione principale può avere qualsiasi nome\n",
    "def main():\n",
    "    print(f\"la funzione principale del codice è stata seguita, in questa funzione possono essere presenti precedentemente create\")\n",
    "    \n",
    "if __name__ == \"__main__\":\n",
    "    main()"
   ]
  },
  {
   "cell_type": "markdown",
   "id": "43805e82",
   "metadata": {},
   "source": [
    "## PROGRAMMA DI VALUTAZIONE DEL BMI"
   ]
  },
  {
   "cell_type": "code",
   "execution_count": 1,
   "id": "1ccc010d",
   "metadata": {},
   "outputs": [],
   "source": [
    "#main\n",
    "#Funzione per il calcolo del BMI\n",
    "\n",
    "def calcola_bmi(peso, altezza):\n",
    "    return peso / (altezza ** 2)\n",
    "\n",
    "#Funzione per la valutazione del BMI\n",
    "\n",
    "def valuta_bmi(bmi):\n",
    "    if bmi < 18.5:\n",
    "        return \"Sottopeso\"\n",
    "    elif 18.5 <= bmi < 24.9:\n",
    "        return \"Normapeso\"\n",
    "    elif 25 <= bmi < 29.9:\n",
    "        return \"Sovrappeso\"\n",
    "    else:\n",
    "        return \"Obeso\""
   ]
  },
  {
   "cell_type": "code",
   "execution_count": 4,
   "id": "63bd8b76",
   "metadata": {
    "scrolled": false
   },
   "outputs": [
    {
     "name": "stdout",
     "output_type": "stream",
     "text": [
      "Inserisci numero di persone da valutare: 1\n",
      "Benvenuto nella Calcolatrice BMI!\n",
      "Inserisci il tuo peso in chilogrammi: 65\n",
      "Inserisci la tua altezza in metri: 1.85\n",
      "Il tuo Bmi è 18.991964937910883\n",
      "Valutazione: Normapeso\n"
     ]
    }
   ],
   "source": [
    "# Importa le funzioni calcola_bmi e valuta_bmi (che dovrebbero essere definite)\n",
    "from funzioni_bmi import calcola_bmi, valuta_bmi\n",
    "\n",
    "# Funzione principale\n",
    "def main():\n",
    "    # Chiede all'utente di inserire il numero di persone da valutare\n",
    "    n = int(input(\"Inserisci il numero di persone da valutare: \"))\n",
    "\n",
    "    # Ciclo for per iterare attraverso il numero di persone specificato\n",
    "    for persone in range(n):\n",
    "        print(\"Benvenuto nella Calcolatrice BMI!\")\n",
    "\n",
    "        # Chiede all'utente di inserire peso e altezza\n",
    "        peso = float(input(\"Inserisci il tuo peso in chilogrammi: \"))\n",
    "        altezza = float(input(\"Inserisci la tua altezza in metri: \"))\n",
    "\n",
    "        # Chiama le funzioni per calcolare il BMI e valutare il BMI\n",
    "        bmi = calcola_bmi(peso, altezza)\n",
    "        valutazione = valuta_bmi(bmi)\n",
    "\n",
    "        # Stampa il risultato\n",
    "        print(f\"Il tuo BMI è {bmi}\")\n",
    "        print(f\"Valutazione: {valutazione}\")\n",
    "\n",
    "# Verifica se lo script è in esecuzione come programma principale\n",
    "if __name__ == \"__main__\":\n",
    "    main()\n"
   ]
  },
  {
   "cell_type": "markdown",
   "id": "0e6783e8",
   "metadata": {},
   "source": [
    "## CONVERTITORE DI UNITÀ DI MISURA"
   ]
  },
  {
   "cell_type": "code",
   "execution_count": 6,
   "id": "e8d38e8a",
   "metadata": {
    "scrolled": true
   },
   "outputs": [
    {
     "name": "stdout",
     "output_type": "stream",
     "text": [
      "Vuoi convertire da metri a piedi, da piedi a metri, da chilogrammi a libbre o da libbre a chilogrammi? piedi\n",
      "Inserisci il valore in piedi: 54\n",
      "54.000 piedi corrispondono a 16.459 metri.\n"
     ]
    }
   ],
   "source": [
    "# Funzione per la conversione da metri a piedi\n",
    "def metri_a_piedi(metri):\n",
    "    return metri * 3.28084\n",
    "\n",
    "# Funzione per la conversione da piedi a metri\n",
    "def piedi_a_metri(piedi):\n",
    "    return piedi / 3.28084\n",
    "\n",
    "# Funzione per la conversione da chilogrammi a libbre\n",
    "def chilogrammi_a_libbre(chilogrammi):\n",
    "    return chilogrammi * 2.20462\n",
    "\n",
    "# Funzione per la conversione da libbre a chilogrammi\n",
    "def libbre_a_chilogrammi(libbre):\n",
    "    return libbre / 2.20462\n",
    "\n",
    "# Funzione di selezione per gestire le conversioni in base all'unità di misura scelta\n",
    "def selezione(scelta):\n",
    "    if scelta == \"metri\":\n",
    "        valore = float(input(\"Inserisci il valore in metri: \"))\n",
    "        risultato = metri_a_piedi(valore)\n",
    "        print(f\"{valore:.3f} metri corrispondono a {risultato:.3f} piedi.\")\n",
    "    elif scelta == \"piedi\":\n",
    "        valore = float(input(\"Inserisci il valore in piedi: \"))\n",
    "        risultato = piedi_a_metri(valore)\n",
    "        print(f\"{valore:.3f} piedi corrispondono a {risultato:.3f} metri.\")\n",
    "    elif scelta == \"chilogrammi\":\n",
    "        valore = float(input(\"Inserisci il valore in chilogrammi: \"))\n",
    "        risultato = chilogrammi_a_libbre(valore)\n",
    "        print(f\"{valore:.3f} chilogrammi corrispondono a {risultato:.3f} libbre.\")\n",
    "    elif scelta == \"libbre\":\n",
    "        valore = float(input(\"Inserisci il valore in libbre: \"))\n",
    "        risultato = libbre_a_chilogrammi(valore)\n",
    "        print(f\"{valore:.3f} libbre corrispondono a {risultato:.3f} chilogrammi.\")\n",
    "    else:\n",
    "        print(\"Scelta non valida. Scegli tra 'metri', 'piedi', 'chilogrammi' o 'libbre'.\")\n",
    "\n",
    "# Chiede all'utente l'unità di misura per la conversione\n",
    "unita_misura = input(\"Vuoi convertire da metri a piedi, da piedi a metri, da chilogrammi a libbre o da libbre a chilogrammi? \").strip().lower()\n",
    "\n",
    "# Chiama la funzione di selezione con l'unità di misura scelta\n",
    "selezione(unita_misura)"
   ]
  },
  {
   "cell_type": "markdown",
   "id": "3c2cea77",
   "metadata": {},
   "source": [
    "## GESTIONE DELLE CALORIE CONSUMATE"
   ]
  },
  {
   "cell_type": "code",
   "execution_count": 1,
   "id": "e31399d5",
   "metadata": {
    "scrolled": true
   },
   "outputs": [
    {
     "name": "stdout",
     "output_type": "stream",
     "text": [
      "Menu\n",
      "\n",
      "1. Aggiungi cibo consumato\n",
      "2. Calcola calorie totali\n",
      "3. Esci\n",
      "Scegli un'opzione: 1\n",
      "\n",
      "Cibi disponibili:\n",
      "banana\n",
      "mela\n",
      "arancia\n",
      "Inserisci il cibo consumato: banana\n",
      "Inserisci la quantita (in grammi): 54\n",
      "Menu\n",
      "\n",
      "1. Aggiungi cibo consumato\n",
      "2. Calcola calorie totali\n",
      "3. Esci\n",
      "Scegli un'opzione: 3\n"
     ]
    }
   ],
   "source": [
    "# Dizionario con le calorie per 100 grammi di cibo\n",
    "cibo_calorie = {\n",
    "    \"banana\": 89,\n",
    "    \"mela\": 52,\n",
    "    \"arancia\": 43,\n",
    "    # Altri cibi...\n",
    "}\n",
    "\n",
    "# Funzione per calcolare le calorie consumate\n",
    "def calorie_consumate(cibo, quantita):\n",
    "    if cibo not in cibo_calorie:\n",
    "        print(\"Cibo non presente\")\n",
    "        return 0  # Ritorna 0 calorie se il cibo non è nel dizionario\n",
    "    calorie_per_100g = cibo_calorie[cibo]\n",
    "    calorie_totali = (calorie_per_100g / 100) * quantita\n",
    "    return calorie_totali\n",
    "\n",
    "# Funzione principale\n",
    "def main():\n",
    "    cibo_consumato = []\n",
    "    \n",
    "    while True:\n",
    "        print(\"Menu\")\n",
    "        print(\"\\n1. Aggiungi cibo consumato\")\n",
    "        print(\"2. Calcola calorie totali\")\n",
    "        print(\"3. Esci\")\n",
    "        \n",
    "        scelta = input(\"Scegli un'opzione: \")\n",
    "        \n",
    "        if scelta == \"1\":\n",
    "            print(\"\\nCibi disponibili:\")\n",
    "            for cibo in cibo_calorie:\n",
    "                print(cibo)\n",
    "            cibo = input(\"Inserisci il cibo consumato: \").lower()\n",
    "            quantita = float(input(\"Inserisci la quantita (in grammi): \"))\n",
    "            cibo_consumato.append((cibo, quantita))\n",
    "            \n",
    "        elif scelta == \"2\":\n",
    "            calorie_totali = sum(calorie_consumate(c, q) for c, q in cibo_consumato)\n",
    "            print(f\"\\nCalorie totali consumate: {calorie_totali} calorie\")\n",
    "            \n",
    "        elif scelta == \"3\":\n",
    "            break\n",
    "            \n",
    "        else:\n",
    "            print(\"\\nScelta non valida. Riprova.\")\n",
    "\n",
    "if __name__ == \"__main__\":\n",
    "    main()\n"
   ]
  },
  {
   "cell_type": "code",
   "execution_count": 2,
   "id": "3af0331d",
   "metadata": {},
   "outputs": [],
   "source": [
    "acquisti={}\n",
    "acquisti [\"pan bauletto\"]= 10\n",
    "acquisti [\"nutella\"]= 10\n"
   ]
  },
  {
   "cell_type": "code",
   "execution_count": 3,
   "id": "1389f60d",
   "metadata": {},
   "outputs": [],
   "source": [
    "acquistidue= {\n",
    "    \"pan bauletto\":10,\n",
    "    \"nutella\":10,\n",
    "}"
   ]
  },
  {
   "cell_type": "markdown",
   "id": "a49ac613",
   "metadata": {},
   "source": [
    "# GENERATORE DI PERSONAGGI"
   ]
  },
  {
   "cell_type": "markdown",
   "id": "b15a790a",
   "metadata": {},
   "source": [
    "## GENERATORE DI PERSONAGGI FANTASY"
   ]
  },
  {
   "cell_type": "code",
   "execution_count": 4,
   "id": "f6319dcd",
   "metadata": {
    "scrolled": true
   },
   "outputs": [
    {
     "name": "stdout",
     "output_type": "stream",
     "text": [
      "Personaggio Fantasy Generato:\n",
      "Specie: Umano\n",
      "Classe: Chierico\n",
      "Arma: Bacchetta magica\n",
      "Abilità: Magia dell'acqua, Estrazione mineraria\n"
     ]
    }
   ],
   "source": [
    "import random\n",
    "\n",
    "# Liste di specie, classi, armi e abilità\n",
    "speci = [\"Elfo\", \"Umano\", \"Nano\", \"Orco\", \"Gnomo\"]\n",
    "classi = [\"Guerriero\", \"Mago\", \"Ranger\", \"Ladro\", \"Chierico\"]\n",
    "armi = [\"Spada\", \"Arco\", \"Bacchetta magica\", \"Ascia\", \"Daga\"]\n",
    "abilita = [\"Furtività\", \"Magia dell'acqua\", \"Camuffamento\", \"Estrazione mineraria\", \"Incantesimi di guarigione\"]\n",
    "\n",
    "# Genera un personaggio casuale\n",
    "specie = random.choice(speci)\n",
    "classe = random.choice(classi)\n",
    "arma = random.choice(armi)\n",
    "abilita_scelte = random.sample(abilita, random.randint(1, 3))\n",
    "\n",
    "# Stampa il personaggio generato\n",
    "print(\"Personaggio Fantasy Generato:\")\n",
    "print(f\"Specie: {specie}\")\n",
    "print(f\"Classe: {classe}\")\n",
    "print(f\"Arma: {arma}\")\n",
    "print(f\"Abilità: {', '.join(abilita_scelte)}\")"
   ]
  },
  {
   "cell_type": "markdown",
   "id": "e6e5f969",
   "metadata": {},
   "source": [
    "## GENERATORE DI PERSONAGGI"
   ]
  },
  {
   "cell_type": "code",
   "execution_count": 6,
   "id": "6f8a21d4",
   "metadata": {},
   "outputs": [
    {
     "name": "stdout",
     "output_type": "stream",
     "text": [
      "Inserisci il nome del personaggio: Miao\n",
      "Miao è un personaggio magro, gentile, di sfondo nobile e con la motivazione di scoprire la verità.\n"
     ]
    }
   ],
   "source": [
    "import random\n",
    "\n",
    "# Estendi queste liste con attributi, tratti di personalità, sfondi e motivazioni\n",
    "physical_traits = [\"alto\", \"basso\", \"magro\", \"corpulento\", \"capelli lunghi\", \"capelli corti\"]\n",
    "personality_traits = [\"gentile\", \"introverso\", \"estroverso\", \"avventuroso\", \"analitico\"]\n",
    "backgrounds = [\"contadino\", \"nobile\", \"commerciante\", \"ladro\", \"mago\"]\n",
    "motivations = [\"vendicare una perdita\", \"trovare l'amore\", \"arricchirsi\", \"scoprire la verità\"]\n",
    "\n",
    "def genera_personaggio():\n",
    "    # Chiede all'utente di inserire il nome del personaggio\n",
    "    nome = input(\"Inserisci il nome del personaggio: \")\n",
    "\n",
    "    # Sceglie casualmente un aspetto fisico, un tratto di personalità, uno sfondo e una motivazione\n",
    "    aspetto_fisico = random.choice(physical_traits)\n",
    "    aspetto_personale = random.choice(personality_traits)\n",
    "    sfondo = random.choice(backgrounds)\n",
    "    motivazione = random.choice(motivations)\n",
    "    \n",
    "    # Crea una descrizione del personaggio\n",
    "    descrizione = f\"{nome} è un personaggio {aspetto_fisico}, {aspetto_personale}, di sfondo {sfondo} e con la motivazione di {motivazione}.\"\n",
    "    \n",
    "    # Stampa la descrizione del personaggio\n",
    "    print(descrizione)\n",
    "\n",
    "# Chiama la funzione per generare un personaggio\n",
    "genera_personaggio()\n"
   ]
  }
 ],
 "metadata": {
  "kernelspec": {
   "display_name": "Python 3 (ipykernel)",
   "language": "python",
   "name": "python3"
  },
  "language_info": {
   "codemirror_mode": {
    "name": "ipython",
    "version": 3
   },
   "file_extension": ".py",
   "mimetype": "text/x-python",
   "name": "python",
   "nbconvert_exporter": "python",
   "pygments_lexer": "ipython3",
   "version": "3.11.4"
  }
 },
 "nbformat": 4,
 "nbformat_minor": 5
}
